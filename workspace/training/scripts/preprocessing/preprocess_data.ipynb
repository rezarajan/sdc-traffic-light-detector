{
 "cells": [
  {
   "cell_type": "code",
   "execution_count": 1,
   "metadata": {},
   "outputs": [],
   "source": [
    "import os\n",
    "import pandas as pd"
   ]
  },
  {
   "cell_type": "markdown",
   "metadata": {},
   "source": [
    "# Separating Datasets\n",
    "\n",
    "This section entails separating the dataset into training and test datasets"
   ]
  },
  {
   "cell_type": "code",
   "execution_count": 2,
   "metadata": {},
   "outputs": [],
   "source": [
    "base_path = '../../' # file is in the scripts/preprocessing folder\n",
    "source = 'annotations/lisa-traffic-light-dataset.csv'\n",
    "source = os.path.join(base_path, source)"
   ]
  },
  {
   "cell_type": "code",
   "execution_count": 3,
   "metadata": {},
   "outputs": [
    {
     "data": {
      "text/html": [
       "<div>\n",
       "<style scoped>\n",
       "    .dataframe tbody tr th:only-of-type {\n",
       "        vertical-align: middle;\n",
       "    }\n",
       "\n",
       "    .dataframe tbody tr th {\n",
       "        vertical-align: top;\n",
       "    }\n",
       "\n",
       "    .dataframe thead th {\n",
       "        text-align: right;\n",
       "    }\n",
       "</style>\n",
       "<table border=\"1\" class=\"dataframe\">\n",
       "  <thead>\n",
       "    <tr style=\"text-align: right;\">\n",
       "      <th></th>\n",
       "      <th>filename</th>\n",
       "      <th>class</th>\n",
       "      <th>xmin</th>\n",
       "      <th>ymin</th>\n",
       "      <th>xmax</th>\n",
       "      <th>ymax</th>\n",
       "      <th>height</th>\n",
       "      <th>width</th>\n",
       "    </tr>\n",
       "  </thead>\n",
       "  <tbody>\n",
       "    <tr>\n",
       "      <th>0</th>\n",
       "      <td>dayTest/daySequence1--00000.jpg</td>\n",
       "      <td>stop</td>\n",
       "      <td>706</td>\n",
       "      <td>478</td>\n",
       "      <td>718</td>\n",
       "      <td>500</td>\n",
       "      <td>1280</td>\n",
       "      <td>960</td>\n",
       "    </tr>\n",
       "    <tr>\n",
       "      <th>1</th>\n",
       "      <td>dayTest/daySequence1--00001.jpg</td>\n",
       "      <td>stop</td>\n",
       "      <td>705</td>\n",
       "      <td>475</td>\n",
       "      <td>720</td>\n",
       "      <td>497</td>\n",
       "      <td>1280</td>\n",
       "      <td>960</td>\n",
       "    </tr>\n",
       "    <tr>\n",
       "      <th>2</th>\n",
       "      <td>dayTest/daySequence1--00002.jpg</td>\n",
       "      <td>stop</td>\n",
       "      <td>707</td>\n",
       "      <td>476</td>\n",
       "      <td>719</td>\n",
       "      <td>494</td>\n",
       "      <td>1280</td>\n",
       "      <td>960</td>\n",
       "    </tr>\n",
       "    <tr>\n",
       "      <th>3</th>\n",
       "      <td>dayTest/daySequence1--00005.jpg</td>\n",
       "      <td>stop</td>\n",
       "      <td>708</td>\n",
       "      <td>474</td>\n",
       "      <td>720</td>\n",
       "      <td>492</td>\n",
       "      <td>1280</td>\n",
       "      <td>960</td>\n",
       "    </tr>\n",
       "    <tr>\n",
       "      <th>4</th>\n",
       "      <td>dayTest/daySequence1--00006.jpg</td>\n",
       "      <td>stop</td>\n",
       "      <td>707</td>\n",
       "      <td>470</td>\n",
       "      <td>722</td>\n",
       "      <td>492</td>\n",
       "      <td>1280</td>\n",
       "      <td>960</td>\n",
       "    </tr>\n",
       "  </tbody>\n",
       "</table>\n",
       "</div>"
      ],
      "text/plain": [
       "                          filename class  xmin  ymin  xmax  ymax  height  \\\n",
       "0  dayTest/daySequence1--00000.jpg  stop   706   478   718   500    1280   \n",
       "1  dayTest/daySequence1--00001.jpg  stop   705   475   720   497    1280   \n",
       "2  dayTest/daySequence1--00002.jpg  stop   707   476   719   494    1280   \n",
       "3  dayTest/daySequence1--00005.jpg  stop   708   474   720   492    1280   \n",
       "4  dayTest/daySequence1--00006.jpg  stop   707   470   722   492    1280   \n",
       "\n",
       "   width  \n",
       "0    960  \n",
       "1    960  \n",
       "2    960  \n",
       "3    960  \n",
       "4    960  "
      ]
     },
     "execution_count": 3,
     "metadata": {},
     "output_type": "execute_result"
    }
   ],
   "source": [
    "df = pd.read_csv(source)\n",
    "df.head()"
   ]
  },
  {
   "cell_type": "code",
   "execution_count": 4,
   "metadata": {},
   "outputs": [],
   "source": [
    "# Cleaning the filename to include only the file name and not the path\n",
    "df['filename'] = df['filename'].apply(lambda x: x[8:])"
   ]
  },
  {
   "cell_type": "code",
   "execution_count": 5,
   "metadata": {},
   "outputs": [],
   "source": [
    "# Creating a dataframe with 90%\n",
    "# values of original dataframe\n",
    "train = df.sample(frac = 0.9).reset_index(drop=True)\n",
    "  \n",
    "# Creating dataframe with \n",
    "# rest of the 10% values\n",
    "test = df.drop(train.index).reset_index(drop=True)"
   ]
  },
  {
   "cell_type": "code",
   "execution_count": 6,
   "metadata": {},
   "outputs": [],
   "source": [
    "train_dest = os.path.join(base_path, 'annotations/train.csv')\n",
    "train.to_csv(train_dest, index=False)\n",
    "\n",
    "test_dest = os.path.join(base_path, 'annotations/test.csv')\n",
    "test.to_csv(test_dest, index=False)"
   ]
  },
  {
   "cell_type": "markdown",
   "metadata": {},
   "source": [
    "# Separating the Images\n",
    "\n",
    "Using the separated datasets, move the respective images into their relevant folders."
   ]
  },
  {
   "cell_type": "code",
   "execution_count": 7,
   "metadata": {},
   "outputs": [
    {
     "data": {
      "text/html": [
       "<div>\n",
       "<style scoped>\n",
       "    .dataframe tbody tr th:only-of-type {\n",
       "        vertical-align: middle;\n",
       "    }\n",
       "\n",
       "    .dataframe tbody tr th {\n",
       "        vertical-align: top;\n",
       "    }\n",
       "\n",
       "    .dataframe thead th {\n",
       "        text-align: right;\n",
       "    }\n",
       "</style>\n",
       "<table border=\"1\" class=\"dataframe\">\n",
       "  <thead>\n",
       "    <tr style=\"text-align: right;\">\n",
       "      <th></th>\n",
       "      <th>filename</th>\n",
       "      <th>class</th>\n",
       "      <th>xmin</th>\n",
       "      <th>ymin</th>\n",
       "      <th>xmax</th>\n",
       "      <th>ymax</th>\n",
       "      <th>height</th>\n",
       "      <th>width</th>\n",
       "    </tr>\n",
       "  </thead>\n",
       "  <tbody>\n",
       "    <tr>\n",
       "      <th>0</th>\n",
       "      <td>daySequence1--02603.jpg</td>\n",
       "      <td>go</td>\n",
       "      <td>883</td>\n",
       "      <td>0</td>\n",
       "      <td>946</td>\n",
       "      <td>95</td>\n",
       "      <td>1280</td>\n",
       "      <td>960</td>\n",
       "    </tr>\n",
       "    <tr>\n",
       "      <th>1</th>\n",
       "      <td>daySequence1--01080.jpg</td>\n",
       "      <td>go</td>\n",
       "      <td>607</td>\n",
       "      <td>373</td>\n",
       "      <td>625</td>\n",
       "      <td>403</td>\n",
       "      <td>1280</td>\n",
       "      <td>960</td>\n",
       "    </tr>\n",
       "    <tr>\n",
       "      <th>2</th>\n",
       "      <td>daySequence1--01093.jpg</td>\n",
       "      <td>go</td>\n",
       "      <td>743</td>\n",
       "      <td>425</td>\n",
       "      <td>761</td>\n",
       "      <td>455</td>\n",
       "      <td>1280</td>\n",
       "      <td>960</td>\n",
       "    </tr>\n",
       "    <tr>\n",
       "      <th>3</th>\n",
       "      <td>daySequence1--02197.jpg</td>\n",
       "      <td>stop</td>\n",
       "      <td>538</td>\n",
       "      <td>129</td>\n",
       "      <td>580</td>\n",
       "      <td>187</td>\n",
       "      <td>1280</td>\n",
       "      <td>960</td>\n",
       "    </tr>\n",
       "    <tr>\n",
       "      <th>4</th>\n",
       "      <td>daySequence1--02843.jpg</td>\n",
       "      <td>go</td>\n",
       "      <td>534</td>\n",
       "      <td>47</td>\n",
       "      <td>594</td>\n",
       "      <td>147</td>\n",
       "      <td>1280</td>\n",
       "      <td>960</td>\n",
       "    </tr>\n",
       "  </tbody>\n",
       "</table>\n",
       "</div>"
      ],
      "text/plain": [
       "                  filename class  xmin  ymin  xmax  ymax  height  width\n",
       "0  daySequence1--02603.jpg    go   883     0   946    95    1280    960\n",
       "1  daySequence1--01080.jpg    go   607   373   625   403    1280    960\n",
       "2  daySequence1--01093.jpg    go   743   425   761   455    1280    960\n",
       "3  daySequence1--02197.jpg  stop   538   129   580   187    1280    960\n",
       "4  daySequence1--02843.jpg    go   534    47   594   147    1280    960"
      ]
     },
     "execution_count": 7,
     "metadata": {},
     "output_type": "execute_result"
    }
   ],
   "source": [
    "train.head()"
   ]
  },
  {
   "cell_type": "code",
   "execution_count": 8,
   "metadata": {},
   "outputs": [],
   "source": [
    "train = pd.read_csv(os.path.join(base_path, 'annotations/train.csv'))\n",
    "test = pd.read_csv(os.path.join(base_path, 'annotations/test.csv'))"
   ]
  },
  {
   "cell_type": "code",
   "execution_count": 9,
   "metadata": {},
   "outputs": [
    {
     "data": {
      "text/html": [
       "<div>\n",
       "<style scoped>\n",
       "    .dataframe tbody tr th:only-of-type {\n",
       "        vertical-align: middle;\n",
       "    }\n",
       "\n",
       "    .dataframe tbody tr th {\n",
       "        vertical-align: top;\n",
       "    }\n",
       "\n",
       "    .dataframe thead th {\n",
       "        text-align: right;\n",
       "    }\n",
       "</style>\n",
       "<table border=\"1\" class=\"dataframe\">\n",
       "  <thead>\n",
       "    <tr style=\"text-align: right;\">\n",
       "      <th></th>\n",
       "      <th>filename</th>\n",
       "      <th>class</th>\n",
       "      <th>xmin</th>\n",
       "      <th>ymin</th>\n",
       "      <th>xmax</th>\n",
       "      <th>ymax</th>\n",
       "      <th>height</th>\n",
       "      <th>width</th>\n",
       "    </tr>\n",
       "  </thead>\n",
       "  <tbody>\n",
       "    <tr>\n",
       "      <th>0</th>\n",
       "      <td>daySequence1--02603.jpg</td>\n",
       "      <td>go</td>\n",
       "      <td>883</td>\n",
       "      <td>0</td>\n",
       "      <td>946</td>\n",
       "      <td>95</td>\n",
       "      <td>1280</td>\n",
       "      <td>960</td>\n",
       "    </tr>\n",
       "    <tr>\n",
       "      <th>1</th>\n",
       "      <td>daySequence1--01080.jpg</td>\n",
       "      <td>go</td>\n",
       "      <td>607</td>\n",
       "      <td>373</td>\n",
       "      <td>625</td>\n",
       "      <td>403</td>\n",
       "      <td>1280</td>\n",
       "      <td>960</td>\n",
       "    </tr>\n",
       "    <tr>\n",
       "      <th>2</th>\n",
       "      <td>daySequence1--01093.jpg</td>\n",
       "      <td>go</td>\n",
       "      <td>743</td>\n",
       "      <td>425</td>\n",
       "      <td>761</td>\n",
       "      <td>455</td>\n",
       "      <td>1280</td>\n",
       "      <td>960</td>\n",
       "    </tr>\n",
       "    <tr>\n",
       "      <th>3</th>\n",
       "      <td>daySequence1--02197.jpg</td>\n",
       "      <td>stop</td>\n",
       "      <td>538</td>\n",
       "      <td>129</td>\n",
       "      <td>580</td>\n",
       "      <td>187</td>\n",
       "      <td>1280</td>\n",
       "      <td>960</td>\n",
       "    </tr>\n",
       "    <tr>\n",
       "      <th>4</th>\n",
       "      <td>daySequence1--02843.jpg</td>\n",
       "      <td>go</td>\n",
       "      <td>534</td>\n",
       "      <td>47</td>\n",
       "      <td>594</td>\n",
       "      <td>147</td>\n",
       "      <td>1280</td>\n",
       "      <td>960</td>\n",
       "    </tr>\n",
       "  </tbody>\n",
       "</table>\n",
       "</div>"
      ],
      "text/plain": [
       "                  filename class  xmin  ymin  xmax  ymax  height  width\n",
       "0  daySequence1--02603.jpg    go   883     0   946    95    1280    960\n",
       "1  daySequence1--01080.jpg    go   607   373   625   403    1280    960\n",
       "2  daySequence1--01093.jpg    go   743   425   761   455    1280    960\n",
       "3  daySequence1--02197.jpg  stop   538   129   580   187    1280    960\n",
       "4  daySequence1--02843.jpg    go   534    47   594   147    1280    960"
      ]
     },
     "execution_count": 9,
     "metadata": {},
     "output_type": "execute_result"
    }
   ],
   "source": [
    "train.head()"
   ]
  },
  {
   "cell_type": "code",
   "execution_count": 10,
   "metadata": {},
   "outputs": [
    {
     "data": {
      "text/html": [
       "<div>\n",
       "<style scoped>\n",
       "    .dataframe tbody tr th:only-of-type {\n",
       "        vertical-align: middle;\n",
       "    }\n",
       "\n",
       "    .dataframe tbody tr th {\n",
       "        vertical-align: top;\n",
       "    }\n",
       "\n",
       "    .dataframe thead th {\n",
       "        text-align: right;\n",
       "    }\n",
       "</style>\n",
       "<table border=\"1\" class=\"dataframe\">\n",
       "  <thead>\n",
       "    <tr style=\"text-align: right;\">\n",
       "      <th></th>\n",
       "      <th>filename</th>\n",
       "      <th>class</th>\n",
       "      <th>xmin</th>\n",
       "      <th>ymin</th>\n",
       "      <th>xmax</th>\n",
       "      <th>ymax</th>\n",
       "      <th>height</th>\n",
       "      <th>width</th>\n",
       "    </tr>\n",
       "  </thead>\n",
       "  <tbody>\n",
       "    <tr>\n",
       "      <th>0</th>\n",
       "      <td>daySequence1--03717.jpg</td>\n",
       "      <td>go</td>\n",
       "      <td>453</td>\n",
       "      <td>446</td>\n",
       "      <td>468</td>\n",
       "      <td>466</td>\n",
       "      <td>1280</td>\n",
       "      <td>960</td>\n",
       "    </tr>\n",
       "    <tr>\n",
       "      <th>1</th>\n",
       "      <td>daySequence1--03718.jpg</td>\n",
       "      <td>go</td>\n",
       "      <td>453</td>\n",
       "      <td>442</td>\n",
       "      <td>468</td>\n",
       "      <td>467</td>\n",
       "      <td>1280</td>\n",
       "      <td>960</td>\n",
       "    </tr>\n",
       "    <tr>\n",
       "      <th>2</th>\n",
       "      <td>daySequence1--03719.jpg</td>\n",
       "      <td>go</td>\n",
       "      <td>453</td>\n",
       "      <td>442</td>\n",
       "      <td>468</td>\n",
       "      <td>467</td>\n",
       "      <td>1280</td>\n",
       "      <td>960</td>\n",
       "    </tr>\n",
       "    <tr>\n",
       "      <th>3</th>\n",
       "      <td>daySequence1--03720.jpg</td>\n",
       "      <td>go</td>\n",
       "      <td>453</td>\n",
       "      <td>442</td>\n",
       "      <td>468</td>\n",
       "      <td>467</td>\n",
       "      <td>1280</td>\n",
       "      <td>960</td>\n",
       "    </tr>\n",
       "    <tr>\n",
       "      <th>4</th>\n",
       "      <td>daySequence1--03721.jpg</td>\n",
       "      <td>go</td>\n",
       "      <td>453</td>\n",
       "      <td>442</td>\n",
       "      <td>468</td>\n",
       "      <td>467</td>\n",
       "      <td>1280</td>\n",
       "      <td>960</td>\n",
       "    </tr>\n",
       "  </tbody>\n",
       "</table>\n",
       "</div>"
      ],
      "text/plain": [
       "                  filename class  xmin  ymin  xmax  ymax  height  width\n",
       "0  daySequence1--03717.jpg    go   453   446   468   466    1280    960\n",
       "1  daySequence1--03718.jpg    go   453   442   468   467    1280    960\n",
       "2  daySequence1--03719.jpg    go   453   442   468   467    1280    960\n",
       "3  daySequence1--03720.jpg    go   453   442   468   467    1280    960\n",
       "4  daySequence1--03721.jpg    go   453   442   468   467    1280    960"
      ]
     },
     "execution_count": 10,
     "metadata": {},
     "output_type": "execute_result"
    }
   ],
   "source": [
    "test.head()"
   ]
  },
  {
   "cell_type": "code",
   "execution_count": 11,
   "metadata": {},
   "outputs": [],
   "source": [
    "from shutil import copyfile"
   ]
  },
  {
   "cell_type": "code",
   "execution_count": 12,
   "metadata": {},
   "outputs": [],
   "source": [
    "train_img_dest = os.path.join(base_path, 'images/train/')\n",
    "for filename in train['filename']:\n",
    "    src = os.path.join(base_path, 'images/frames/', filename)\n",
    "    dst = os.path.join(train_img_dest, filename)\n",
    "    copyfile(src, dst)"
   ]
  },
  {
   "cell_type": "code",
   "execution_count": 13,
   "metadata": {},
   "outputs": [],
   "source": [
    "test_img_dest = os.path.join(base_path, 'images/test/')\n",
    "for filename in test['filename']:\n",
    "    src = os.path.join(base_path, 'images/frames/', filename)\n",
    "    dst = os.path.join(test_img_dest, filename)\n",
    "    copyfile(src, dst)"
   ]
  },
  {
   "cell_type": "markdown",
   "metadata": {},
   "source": [
    "# Creating Label Map\n",
    "The label map maps all the classes to integer values. This will be saved to a .pbtxt file for easy use in Tensorflow."
   ]
  },
  {
   "cell_type": "code",
   "execution_count": 15,
   "metadata": {},
   "outputs": [
    {
     "data": {
      "text/plain": [
       "array(['go', 'stop', 'warning', 'warningLeft', 'stopLeft'], dtype=object)"
      ]
     },
     "execution_count": 15,
     "metadata": {},
     "output_type": "execute_result"
    }
   ],
   "source": [
    "train['class'].unique()"
   ]
  },
  {
   "cell_type": "code",
   "execution_count": 25,
   "metadata": {},
   "outputs": [
    {
     "name": "stdout",
     "output_type": "stream",
     "text": [
      "item {\n",
      "\tid: 1\n",
      "\tname: go\n",
      "}\n",
      "\n",
      "item {\n",
      "\tid: 2\n",
      "\tname: stop\n",
      "}\n",
      "\n",
      "item {\n",
      "\tid: 3\n",
      "\tname: warning\n",
      "}\n",
      "\n",
      "item {\n",
      "\tid: 4\n",
      "\tname: warningLeft\n",
      "}\n",
      "\n",
      "item {\n",
      "\tid: 5\n",
      "\tname: stopLeft\n",
      "}\n",
      "\n",
      "\n"
     ]
    }
   ],
   "source": [
    "label_map = ''\n",
    "\n",
    "for i, item in enumerate(train['class'].unique()):\n",
    "    text = 'item {\\n\\t' + 'id: ' + str(i+1) + \\\n",
    "                 '\\n\\tname: ' + str(item) + \\\n",
    "                 '\\n}\\n\\n'\n",
    "    label_map += text\n",
    "\n",
    "print(label_map)"
   ]
  },
  {
   "cell_type": "code",
   "execution_count": 26,
   "metadata": {},
   "outputs": [],
   "source": [
    "# Writing to .pbtxt file\n",
    "label_dest = os.path.join(base_path, 'annotations/label_map.pbtxt')\n",
    "with open(label_dest, \"w\") as text_file:\n",
    "    print(label_map, file=text_file)"
   ]
  }
 ],
 "metadata": {
  "interpreter": {
   "hash": "0e483b6fb9640b74089b1a951bfbaf0f9de181e86ea1641612c2bd626cb34c5b"
  },
  "kernelspec": {
   "display_name": "Python 3.6.13 64-bit ('directml': conda)",
   "name": "python3"
  },
  "language_info": {
   "codemirror_mode": {
    "name": "ipython",
    "version": 3
   },
   "file_extension": ".py",
   "mimetype": "text/x-python",
   "name": "python",
   "nbconvert_exporter": "python",
   "pygments_lexer": "ipython3",
   "version": "3.6.13"
  },
  "orig_nbformat": 4
 },
 "nbformat": 4,
 "nbformat_minor": 2
}