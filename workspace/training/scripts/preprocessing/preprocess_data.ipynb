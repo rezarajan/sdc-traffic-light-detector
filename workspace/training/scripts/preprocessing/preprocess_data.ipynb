{
 "cells": [
  {
   "cell_type": "code",
   "execution_count": 1,
   "metadata": {},
   "outputs": [],
   "source": [
    "import os\n",
    "import pandas as pd"
   ]
  },
  {
   "cell_type": "markdown",
   "metadata": {},
   "source": [
    "# Separating Datasets\n",
    "\n",
    "This section entails separating the dataset into training and test datasets"
   ]
  },
  {
   "cell_type": "code",
   "execution_count": 2,
   "metadata": {},
   "outputs": [],
   "source": [
    "base_path = '../../' # file is in the scripts/preprocessing folder\n",
    "source = 'annotations/lisa-traffic-light-dataset.csv'\n",
    "source = os.path.join(base_path, source)"
   ]
  },
  {
   "cell_type": "code",
   "execution_count": 3,
   "metadata": {},
   "outputs": [
    {
     "data": {
      "text/html": [
       "<div>\n",
       "<style scoped>\n",
       "    .dataframe tbody tr th:only-of-type {\n",
       "        vertical-align: middle;\n",
       "    }\n",
       "\n",
       "    .dataframe tbody tr th {\n",
       "        vertical-align: top;\n",
       "    }\n",
       "\n",
       "    .dataframe thead th {\n",
       "        text-align: right;\n",
       "    }\n",
       "</style>\n",
       "<table border=\"1\" class=\"dataframe\">\n",
       "  <thead>\n",
       "    <tr style=\"text-align: right;\">\n",
       "      <th></th>\n",
       "      <th>filename</th>\n",
       "      <th>class</th>\n",
       "      <th>xmin</th>\n",
       "      <th>ymin</th>\n",
       "      <th>xmax</th>\n",
       "      <th>ymax</th>\n",
       "      <th>height</th>\n",
       "      <th>width</th>\n",
       "    </tr>\n",
       "  </thead>\n",
       "  <tbody>\n",
       "    <tr>\n",
       "      <th>0</th>\n",
       "      <td>dayTest/daySequence1--00000.jpg</td>\n",
       "      <td>stop</td>\n",
       "      <td>706</td>\n",
       "      <td>478</td>\n",
       "      <td>718</td>\n",
       "      <td>500</td>\n",
       "      <td>1280</td>\n",
       "      <td>960</td>\n",
       "    </tr>\n",
       "    <tr>\n",
       "      <th>1</th>\n",
       "      <td>dayTest/daySequence1--00001.jpg</td>\n",
       "      <td>stop</td>\n",
       "      <td>705</td>\n",
       "      <td>475</td>\n",
       "      <td>720</td>\n",
       "      <td>497</td>\n",
       "      <td>1280</td>\n",
       "      <td>960</td>\n",
       "    </tr>\n",
       "    <tr>\n",
       "      <th>2</th>\n",
       "      <td>dayTest/daySequence1--00002.jpg</td>\n",
       "      <td>stop</td>\n",
       "      <td>707</td>\n",
       "      <td>476</td>\n",
       "      <td>719</td>\n",
       "      <td>494</td>\n",
       "      <td>1280</td>\n",
       "      <td>960</td>\n",
       "    </tr>\n",
       "    <tr>\n",
       "      <th>3</th>\n",
       "      <td>dayTest/daySequence1--00005.jpg</td>\n",
       "      <td>stop</td>\n",
       "      <td>708</td>\n",
       "      <td>474</td>\n",
       "      <td>720</td>\n",
       "      <td>492</td>\n",
       "      <td>1280</td>\n",
       "      <td>960</td>\n",
       "    </tr>\n",
       "    <tr>\n",
       "      <th>4</th>\n",
       "      <td>dayTest/daySequence1--00006.jpg</td>\n",
       "      <td>stop</td>\n",
       "      <td>707</td>\n",
       "      <td>470</td>\n",
       "      <td>722</td>\n",
       "      <td>492</td>\n",
       "      <td>1280</td>\n",
       "      <td>960</td>\n",
       "    </tr>\n",
       "  </tbody>\n",
       "</table>\n",
       "</div>"
      ],
      "text/plain": [
       "                          filename class  xmin  ymin  xmax  ymax  height  \\\n",
       "0  dayTest/daySequence1--00000.jpg  stop   706   478   718   500    1280   \n",
       "1  dayTest/daySequence1--00001.jpg  stop   705   475   720   497    1280   \n",
       "2  dayTest/daySequence1--00002.jpg  stop   707   476   719   494    1280   \n",
       "3  dayTest/daySequence1--00005.jpg  stop   708   474   720   492    1280   \n",
       "4  dayTest/daySequence1--00006.jpg  stop   707   470   722   492    1280   \n",
       "\n",
       "   width  \n",
       "0    960  \n",
       "1    960  \n",
       "2    960  \n",
       "3    960  \n",
       "4    960  "
      ]
     },
     "execution_count": 3,
     "metadata": {},
     "output_type": "execute_result"
    }
   ],
   "source": [
    "df = pd.read_csv(source)\n",
    "df.head()"
   ]
  },
  {
   "cell_type": "code",
   "execution_count": 4,
   "metadata": {},
   "outputs": [],
   "source": [
    "# Cleaning the filename to include only the file name and not the path\n",
    "df['filename'] = df['filename'].apply(lambda x: x[8:])"
   ]
  },
  {
   "cell_type": "code",
   "execution_count": 5,
   "metadata": {},
   "outputs": [],
   "source": [
    "# Creating a dataframe with 90%\n",
    "# values of original dataframe\n",
    "train = df.sample(frac = 0.9).reset_index(drop=True)\n",
    "  \n",
    "# Creating dataframe with \n",
    "# rest of the 10% values\n",
    "test = df.drop(train.index).reset_index(drop=True)"
   ]
  },
  {
   "cell_type": "code",
   "execution_count": 6,
   "metadata": {},
   "outputs": [],
   "source": [
    "train_dest = os.path.join(base_path, 'annotations/train.csv')\n",
    "train.to_csv(train_dest, index=False)\n",
    "\n",
    "test_dest = os.path.join(base_path, 'annotations/test.csv')\n",
    "test.to_csv(test_dest, index=False)"
   ]
  },
  {
   "cell_type": "markdown",
   "metadata": {},
   "source": [
    "# Separating the Images\n",
    "\n",
    "Using the separated datasets, move the respective images into their relevant folders."
   ]
  },
  {
   "cell_type": "code",
   "execution_count": 7,
   "metadata": {},
   "outputs": [
    {
     "data": {
      "text/html": [
       "<div>\n",
       "<style scoped>\n",
       "    .dataframe tbody tr th:only-of-type {\n",
       "        vertical-align: middle;\n",
       "    }\n",
       "\n",
       "    .dataframe tbody tr th {\n",
       "        vertical-align: top;\n",
       "    }\n",
       "\n",
       "    .dataframe thead th {\n",
       "        text-align: right;\n",
       "    }\n",
       "</style>\n",
       "<table border=\"1\" class=\"dataframe\">\n",
       "  <thead>\n",
       "    <tr style=\"text-align: right;\">\n",
       "      <th></th>\n",
       "      <th>filename</th>\n",
       "      <th>class</th>\n",
       "      <th>xmin</th>\n",
       "      <th>ymin</th>\n",
       "      <th>xmax</th>\n",
       "      <th>ymax</th>\n",
       "      <th>height</th>\n",
       "      <th>width</th>\n",
       "    </tr>\n",
       "  </thead>\n",
       "  <tbody>\n",
       "    <tr>\n",
       "      <th>0</th>\n",
       "      <td>daySequence1--02603.jpg</td>\n",
       "      <td>go</td>\n",
       "      <td>883</td>\n",
       "      <td>0</td>\n",
       "      <td>946</td>\n",
       "      <td>95</td>\n",
       "      <td>1280</td>\n",
       "      <td>960</td>\n",
       "    </tr>\n",
       "    <tr>\n",
       "      <th>1</th>\n",
       "      <td>daySequence1--01080.jpg</td>\n",
       "      <td>go</td>\n",
       "      <td>607</td>\n",
       "      <td>373</td>\n",
       "      <td>625</td>\n",
       "      <td>403</td>\n",
       "      <td>1280</td>\n",
       "      <td>960</td>\n",
       "    </tr>\n",
       "    <tr>\n",
       "      <th>2</th>\n",
       "      <td>daySequence1--01093.jpg</td>\n",
       "      <td>go</td>\n",
       "      <td>743</td>\n",
       "      <td>425</td>\n",
       "      <td>761</td>\n",
       "      <td>455</td>\n",
       "      <td>1280</td>\n",
       "      <td>960</td>\n",
       "    </tr>\n",
       "    <tr>\n",
       "      <th>3</th>\n",
       "      <td>daySequence1--02197.jpg</td>\n",
       "      <td>stop</td>\n",
       "      <td>538</td>\n",
       "      <td>129</td>\n",
       "      <td>580</td>\n",
       "      <td>187</td>\n",
       "      <td>1280</td>\n",
       "      <td>960</td>\n",
       "    </tr>\n",
       "    <tr>\n",
       "      <th>4</th>\n",
       "      <td>daySequence1--02843.jpg</td>\n",
       "      <td>go</td>\n",
       "      <td>534</td>\n",
       "      <td>47</td>\n",
       "      <td>594</td>\n",
       "      <td>147</td>\n",
       "      <td>1280</td>\n",
       "      <td>960</td>\n",
       "    </tr>\n",
       "  </tbody>\n",
       "</table>\n",
       "</div>"
      ],
      "text/plain": [
       "                  filename class  xmin  ymin  xmax  ymax  height  width\n",
       "0  daySequence1--02603.jpg    go   883     0   946    95    1280    960\n",
       "1  daySequence1--01080.jpg    go   607   373   625   403    1280    960\n",
       "2  daySequence1--01093.jpg    go   743   425   761   455    1280    960\n",
       "3  daySequence1--02197.jpg  stop   538   129   580   187    1280    960\n",
       "4  daySequence1--02843.jpg    go   534    47   594   147    1280    960"
      ]
     },
     "execution_count": 7,
     "metadata": {},
     "output_type": "execute_result"
    }
   ],
   "source": [
    "train.head()"
   ]
  },
  {
   "cell_type": "code",
   "execution_count": 3,
   "metadata": {},
   "outputs": [],
   "source": [
    "train = pd.read_csv(os.path.join(base_path, 'annotations/train.csv'))\n",
    "test = pd.read_csv(os.path.join(base_path, 'annotations/test.csv'))"
   ]
  },
  {
   "cell_type": "code",
   "execution_count": 9,
   "metadata": {},
   "outputs": [
    {
     "data": {
      "text/html": [
       "<div>\n",
       "<style scoped>\n",
       "    .dataframe tbody tr th:only-of-type {\n",
       "        vertical-align: middle;\n",
       "    }\n",
       "\n",
       "    .dataframe tbody tr th {\n",
       "        vertical-align: top;\n",
       "    }\n",
       "\n",
       "    .dataframe thead th {\n",
       "        text-align: right;\n",
       "    }\n",
       "</style>\n",
       "<table border=\"1\" class=\"dataframe\">\n",
       "  <thead>\n",
       "    <tr style=\"text-align: right;\">\n",
       "      <th></th>\n",
       "      <th>filename</th>\n",
       "      <th>class</th>\n",
       "      <th>xmin</th>\n",
       "      <th>ymin</th>\n",
       "      <th>xmax</th>\n",
       "      <th>ymax</th>\n",
       "      <th>height</th>\n",
       "      <th>width</th>\n",
       "    </tr>\n",
       "  </thead>\n",
       "  <tbody>\n",
       "    <tr>\n",
       "      <th>0</th>\n",
       "      <td>daySequence1--02603.jpg</td>\n",
       "      <td>go</td>\n",
       "      <td>883</td>\n",
       "      <td>0</td>\n",
       "      <td>946</td>\n",
       "      <td>95</td>\n",
       "      <td>1280</td>\n",
       "      <td>960</td>\n",
       "    </tr>\n",
       "    <tr>\n",
       "      <th>1</th>\n",
       "      <td>daySequence1--01080.jpg</td>\n",
       "      <td>go</td>\n",
       "      <td>607</td>\n",
       "      <td>373</td>\n",
       "      <td>625</td>\n",
       "      <td>403</td>\n",
       "      <td>1280</td>\n",
       "      <td>960</td>\n",
       "    </tr>\n",
       "    <tr>\n",
       "      <th>2</th>\n",
       "      <td>daySequence1--01093.jpg</td>\n",
       "      <td>go</td>\n",
       "      <td>743</td>\n",
       "      <td>425</td>\n",
       "      <td>761</td>\n",
       "      <td>455</td>\n",
       "      <td>1280</td>\n",
       "      <td>960</td>\n",
       "    </tr>\n",
       "    <tr>\n",
       "      <th>3</th>\n",
       "      <td>daySequence1--02197.jpg</td>\n",
       "      <td>stop</td>\n",
       "      <td>538</td>\n",
       "      <td>129</td>\n",
       "      <td>580</td>\n",
       "      <td>187</td>\n",
       "      <td>1280</td>\n",
       "      <td>960</td>\n",
       "    </tr>\n",
       "    <tr>\n",
       "      <th>4</th>\n",
       "      <td>daySequence1--02843.jpg</td>\n",
       "      <td>go</td>\n",
       "      <td>534</td>\n",
       "      <td>47</td>\n",
       "      <td>594</td>\n",
       "      <td>147</td>\n",
       "      <td>1280</td>\n",
       "      <td>960</td>\n",
       "    </tr>\n",
       "  </tbody>\n",
       "</table>\n",
       "</div>"
      ],
      "text/plain": [
       "                  filename class  xmin  ymin  xmax  ymax  height  width\n",
       "0  daySequence1--02603.jpg    go   883     0   946    95    1280    960\n",
       "1  daySequence1--01080.jpg    go   607   373   625   403    1280    960\n",
       "2  daySequence1--01093.jpg    go   743   425   761   455    1280    960\n",
       "3  daySequence1--02197.jpg  stop   538   129   580   187    1280    960\n",
       "4  daySequence1--02843.jpg    go   534    47   594   147    1280    960"
      ]
     },
     "execution_count": 9,
     "metadata": {},
     "output_type": "execute_result"
    }
   ],
   "source": [
    "train.head()"
   ]
  },
  {
   "cell_type": "code",
   "execution_count": 10,
   "metadata": {},
   "outputs": [
    {
     "data": {
      "text/html": [
       "<div>\n",
       "<style scoped>\n",
       "    .dataframe tbody tr th:only-of-type {\n",
       "        vertical-align: middle;\n",
       "    }\n",
       "\n",
       "    .dataframe tbody tr th {\n",
       "        vertical-align: top;\n",
       "    }\n",
       "\n",
       "    .dataframe thead th {\n",
       "        text-align: right;\n",
       "    }\n",
       "</style>\n",
       "<table border=\"1\" class=\"dataframe\">\n",
       "  <thead>\n",
       "    <tr style=\"text-align: right;\">\n",
       "      <th></th>\n",
       "      <th>filename</th>\n",
       "      <th>class</th>\n",
       "      <th>xmin</th>\n",
       "      <th>ymin</th>\n",
       "      <th>xmax</th>\n",
       "      <th>ymax</th>\n",
       "      <th>height</th>\n",
       "      <th>width</th>\n",
       "    </tr>\n",
       "  </thead>\n",
       "  <tbody>\n",
       "    <tr>\n",
       "      <th>0</th>\n",
       "      <td>daySequence1--03717.jpg</td>\n",
       "      <td>go</td>\n",
       "      <td>453</td>\n",
       "      <td>446</td>\n",
       "      <td>468</td>\n",
       "      <td>466</td>\n",
       "      <td>1280</td>\n",
       "      <td>960</td>\n",
       "    </tr>\n",
       "    <tr>\n",
       "      <th>1</th>\n",
       "      <td>daySequence1--03718.jpg</td>\n",
       "      <td>go</td>\n",
       "      <td>453</td>\n",
       "      <td>442</td>\n",
       "      <td>468</td>\n",
       "      <td>467</td>\n",
       "      <td>1280</td>\n",
       "      <td>960</td>\n",
       "    </tr>\n",
       "    <tr>\n",
       "      <th>2</th>\n",
       "      <td>daySequence1--03719.jpg</td>\n",
       "      <td>go</td>\n",
       "      <td>453</td>\n",
       "      <td>442</td>\n",
       "      <td>468</td>\n",
       "      <td>467</td>\n",
       "      <td>1280</td>\n",
       "      <td>960</td>\n",
       "    </tr>\n",
       "    <tr>\n",
       "      <th>3</th>\n",
       "      <td>daySequence1--03720.jpg</td>\n",
       "      <td>go</td>\n",
       "      <td>453</td>\n",
       "      <td>442</td>\n",
       "      <td>468</td>\n",
       "      <td>467</td>\n",
       "      <td>1280</td>\n",
       "      <td>960</td>\n",
       "    </tr>\n",
       "    <tr>\n",
       "      <th>4</th>\n",
       "      <td>daySequence1--03721.jpg</td>\n",
       "      <td>go</td>\n",
       "      <td>453</td>\n",
       "      <td>442</td>\n",
       "      <td>468</td>\n",
       "      <td>467</td>\n",
       "      <td>1280</td>\n",
       "      <td>960</td>\n",
       "    </tr>\n",
       "  </tbody>\n",
       "</table>\n",
       "</div>"
      ],
      "text/plain": [
       "                  filename class  xmin  ymin  xmax  ymax  height  width\n",
       "0  daySequence1--03717.jpg    go   453   446   468   466    1280    960\n",
       "1  daySequence1--03718.jpg    go   453   442   468   467    1280    960\n",
       "2  daySequence1--03719.jpg    go   453   442   468   467    1280    960\n",
       "3  daySequence1--03720.jpg    go   453   442   468   467    1280    960\n",
       "4  daySequence1--03721.jpg    go   453   442   468   467    1280    960"
      ]
     },
     "execution_count": 10,
     "metadata": {},
     "output_type": "execute_result"
    }
   ],
   "source": [
    "test.head()"
   ]
  },
  {
   "cell_type": "code",
   "execution_count": 11,
   "metadata": {},
   "outputs": [],
   "source": [
    "from shutil import copyfile"
   ]
  },
  {
   "cell_type": "code",
   "execution_count": 12,
   "metadata": {},
   "outputs": [],
   "source": [
    "train_img_dest = os.path.join(base_path, 'images/train/')\n",
    "for filename in train['filename']:\n",
    "    src = os.path.join(base_path, 'images/frames/', filename)\n",
    "    dst = os.path.join(train_img_dest, filename)\n",
    "    copyfile(src, dst)"
   ]
  },
  {
   "cell_type": "code",
   "execution_count": 13,
   "metadata": {},
   "outputs": [],
   "source": [
    "test_img_dest = os.path.join(base_path, 'images/test/')\n",
    "for filename in test['filename']:\n",
    "    src = os.path.join(base_path, 'images/frames/', filename)\n",
    "    dst = os.path.join(test_img_dest, filename)\n",
    "    copyfile(src, dst)"
   ]
  },
  {
   "cell_type": "markdown",
   "metadata": {},
   "source": [
    "# Creating Label Map\n",
    "The label map maps all the classes to integer values. This will be saved to a .pbtxt file for easy use in Tensorflow."
   ]
  },
  {
   "cell_type": "code",
   "execution_count": 15,
   "metadata": {},
   "outputs": [
    {
     "data": {
      "text/plain": [
       "array(['go', 'stop', 'warning', 'warningLeft', 'stopLeft'], dtype=object)"
      ]
     },
     "execution_count": 15,
     "metadata": {},
     "output_type": "execute_result"
    }
   ],
   "source": [
    "train['class'].unique()"
   ]
  },
  {
   "cell_type": "code",
   "execution_count": 34,
   "metadata": {},
   "outputs": [
    {
     "name": "stdout",
     "output_type": "stream",
     "text": [
      "item {\n",
      "\tid: 1\n",
      "\tname: 'go'\n",
      "}\n",
      "\n",
      "item {\n",
      "\tid: 2\n",
      "\tname: 'stop'\n",
      "}\n",
      "\n",
      "item {\n",
      "\tid: 3\n",
      "\tname: 'warning'\n",
      "}\n",
      "\n",
      "item {\n",
      "\tid: 4\n",
      "\tname: 'warningLeft'\n",
      "}\n",
      "\n",
      "item {\n",
      "\tid: 5\n",
      "\tname: 'stopLeft'\n",
      "}\n",
      "\n",
      "\n"
     ]
    }
   ],
   "source": [
    "label_map = ''\r\n",
    "\r\n",
    "for i, item in enumerate(train['class'].unique()):\r\n",
    "    text = 'item {\\n\\t' + 'id: ' + str(i+1) + \\\r\n",
    "                 '\\n\\tname: ' + '\\'' + str(item) + '\\'' + \\\r\n",
    "                 '\\n}\\n\\n'\r\n",
    "    label_map += text\r\n",
    "\r\n",
    "print(label_map)"
   ]
  },
  {
   "cell_type": "code",
   "execution_count": 35,
   "metadata": {},
   "outputs": [],
   "source": [
    "# Writing to .pbtxt file\r\n",
    "label_dest = os.path.join(base_path, 'annotations/label_map.pbtxt')\r\n",
    "with open(label_dest, \"w\") as text_file:\r\n",
    "    print(label_map, file=text_file)"
   ]
  },
  {
   "cell_type": "markdown",
   "metadata": {},
   "source": [
    "# Create TFRecord Files"
   ]
  },
  {
   "cell_type": "code",
   "execution_count": 1,
   "metadata": {},
   "outputs": [],
   "source": [
    "import os\r\n",
    "import glob\r\n",
    "import pandas as pd\r\n",
    "import io\r\n",
    "import xml.etree.ElementTree as ET\r\n",
    "import argparse\r\n",
    "\r\n",
    "os.environ['TF_CPP_MIN_LOG_LEVEL'] = '2'    # Suppress TensorFlow logging (1)\r\n",
    "import tensorflow.compat.v1 as tf\r\n",
    "from PIL import Image\r\n",
    "from object_detection.utils import dataset_util, label_map_util\r\n",
    "from collections import namedtuple"
   ]
  },
  {
   "cell_type": "code",
   "execution_count": 36,
   "metadata": {},
   "outputs": [],
   "source": [
    "base_path = '../../' # file is in the scripts/preprocessing folder\r\n",
    "labels_path = os.path.join(base_path, 'annotations/label_map.pbtxt')\r\n",
    "label_map = label_map_util.load_labelmap(labels_path)\r\n",
    "label_map_dict = label_map_util.get_label_map_dict(label_map)"
   ]
  },
  {
   "cell_type": "code",
   "execution_count": 37,
   "metadata": {},
   "outputs": [],
   "source": [
    "def class_text_to_int(row_label):\r\n",
    "    return label_map_dict[row_label]\r\n",
    "\r\n",
    "\r\n",
    "def split(df, group):\r\n",
    "    data = namedtuple('data', ['filename', 'object'])\r\n",
    "    gb = df.groupby(group)\r\n",
    "    return [data(filename, gb.get_group(x)) for filename, x in zip(gb.groups.keys(), gb.groups)]\r\n",
    "\r\n",
    "\r\n",
    "def create_tf_example(group, path):\r\n",
    "    with tf.gfile.GFile(os.path.join(path, '{}'.format(group.filename)), 'rb') as fid:\r\n",
    "        encoded_jpg = fid.read()\r\n",
    "    encoded_jpg_io = io.BytesIO(encoded_jpg)\r\n",
    "    image = Image.open(encoded_jpg_io)\r\n",
    "    width, height = image.size\r\n",
    "\r\n",
    "    filename = group.filename.encode('utf8')\r\n",
    "    image_format = b'jpg'\r\n",
    "    xmins = []\r\n",
    "    xmaxs = []\r\n",
    "    ymins = []\r\n",
    "    ymaxs = []\r\n",
    "    classes_text = []\r\n",
    "    classes = []\r\n",
    "\r\n",
    "    for index, row in group.object.iterrows():\r\n",
    "        xmins.append(row['xmin'] / width)\r\n",
    "        xmaxs.append(row['xmax'] / width)\r\n",
    "        ymins.append(row['ymin'] / height)\r\n",
    "        ymaxs.append(row['ymax'] / height)\r\n",
    "        classes_text.append(row['class'].encode('utf8'))\r\n",
    "        classes.append(class_text_to_int(row['class']))\r\n",
    "\r\n",
    "    tf_example = tf.train.Example(features=tf.train.Features(feature={\r\n",
    "        'image/height': dataset_util.int64_feature(height),\r\n",
    "        'image/width': dataset_util.int64_feature(width),\r\n",
    "        'image/filename': dataset_util.bytes_feature(filename),\r\n",
    "        'image/source_id': dataset_util.bytes_feature(filename),\r\n",
    "        'image/encoded': dataset_util.bytes_feature(encoded_jpg),\r\n",
    "        'image/format': dataset_util.bytes_feature(image_format),\r\n",
    "        'image/object/bbox/xmin': dataset_util.float_list_feature(xmins),\r\n",
    "        'image/object/bbox/xmax': dataset_util.float_list_feature(xmaxs),\r\n",
    "        'image/object/bbox/ymin': dataset_util.float_list_feature(ymins),\r\n",
    "        'image/object/bbox/ymax': dataset_util.float_list_feature(ymaxs),\r\n",
    "        'image/object/class/text': dataset_util.bytes_list_feature(classes_text),\r\n",
    "        'image/object/class/label': dataset_util.int64_list_feature(classes),\r\n",
    "    }))\r\n",
    "    return tf_example\r\n"
   ]
  },
  {
   "cell_type": "code",
   "execution_count": 55,
   "metadata": {},
   "outputs": [],
   "source": [
    "train_tfrecord_path = os.path.join(base_path, 'annotations/train.record')\r\n",
    "test_tfrecord_path = os.path.join(base_path, 'annotations/test.record')\r\n",
    "\r\n",
    "train_img_path = os.path.join(base_path, 'images/train/')\r\n",
    "test_img_path = os.path.join(base_path, 'images/test/')\r\n",
    "\r\n",
    "train_csv_path = os.path.join(base_path, 'annotations/train.csv')\r\n",
    "test_csv_path = os.path.join(base_path, 'annotations/test.csv')\r\n",
    "\r\n",
    "tfrecord_paths = [train_tfrecord_path, test_tfrecord_path]\r\n",
    "image_paths = [train_img_path, test_img_path]\r\n",
    "csv_paths = [train_csv_path, test_csv_path]"
   ]
  },
  {
   "cell_type": "code",
   "execution_count": 56,
   "metadata": {},
   "outputs": [
    {
     "name": "stdout",
     "output_type": "stream",
     "text": [
      "Successfully created the TFRecord file: ../../annotations/train.record\n",
      "Successfully created the TFRecord file: ../../annotations/test.record\n"
     ]
    }
   ],
   "source": [
    "for output_path, image_dir, csv_path in zip(tfrecord_paths, image_paths, csv_paths):\r\n",
    "    writer = tf.python_io.TFRecordWriter(output_path)\r\n",
    "    path = os.path.join(image_dir)\r\n",
    "    examples = pd.read_csv(csv_path)\r\n",
    "    grouped = split(examples, 'filename')\r\n",
    "    for group in grouped:\r\n",
    "        tf_example = create_tf_example(group, path)\r\n",
    "        writer.write(tf_example.SerializeToString())\r\n",
    "    writer.close()\r\n",
    "    print('Successfully created the TFRecord file: {}'.format(output_path))"
   ]
  }
 ],
 "metadata": {
  "interpreter": {
   "hash": "8377117fe6ff71f583fad6adf4f0a8ae76f1d140881aee6fc866df6b081948d4"
  },
  "kernelspec": {
   "display_name": "Python 3.6.13 64-bit ('sdc': conda)",
   "name": "python3"
  },
  "language_info": {
   "codemirror_mode": {
    "name": "ipython",
    "version": 3
   },
   "file_extension": ".py",
   "mimetype": "text/x-python",
   "name": "python",
   "nbconvert_exporter": "python",
   "pygments_lexer": "ipython3",
   "version": "3.6.13"
  },
  "orig_nbformat": 4
 },
 "nbformat": 4,
 "nbformat_minor": 2
}